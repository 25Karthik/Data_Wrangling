{
 "cells": [
  {
   "cell_type": "markdown",
   "metadata": {},
   "source": [
    "### 1. Create a null vector of size 10 but the fifth value which is 1."
   ]
  },
  {
   "cell_type": "code",
   "execution_count": 1,
   "metadata": {},
   "outputs": [
    {
     "name": "stdout",
     "output_type": "stream",
     "text": [
      "[0 0 0 0 1 0 0 0 0 0]\n"
     ]
    }
   ],
   "source": [
    "import numpy as np\n",
    "a = np.zeros(10,dtype = int)\n",
    "a[4] = 1\n",
    "print(a)"
   ]
  },
  {
   "cell_type": "markdown",
   "metadata": {},
   "source": [
    "### 2. Create a vector with values ranging from 10 to 49."
   ]
  },
  {
   "cell_type": "code",
   "execution_count": 3,
   "metadata": {},
   "outputs": [
    {
     "name": "stdout",
     "output_type": "stream",
     "text": [
      "[10 11 12 13 14 15 16 17 18 19 20 21 22 23 24 25 26 27 28 29 30 31 32 33\n",
      " 34 35 36 37 38 39 40 41 42 43 44 45 46 47 48 49]\n"
     ]
    }
   ],
   "source": [
    "vec= np.arange(10,50)\n",
    "print(vec)"
   ]
  },
  {
   "cell_type": "markdown",
   "metadata": {},
   "source": [
    "### 3. Create a 3x3 matrix with values ranging from 0 to 8"
   ]
  },
  {
   "cell_type": "code",
   "execution_count": 4,
   "metadata": {},
   "outputs": [
    {
     "name": "stdout",
     "output_type": "stream",
     "text": [
      "[[0 1 2]\n",
      " [3 4 5]\n",
      " [6 7 8]]\n"
     ]
    }
   ],
   "source": [
    "ar=np.arange(0, 9).reshape(3,3)\n",
    "print(ar)"
   ]
  },
  {
   "cell_type": "markdown",
   "metadata": {},
   "source": [
    "### 4. Find indices of non-zero elements from [1,2,0,0,4,0]"
   ]
  },
  {
   "cell_type": "code",
   "execution_count": 5,
   "metadata": {},
   "outputs": [
    {
     "name": "stdout",
     "output_type": "stream",
     "text": [
      "[1 2 0 0 4 0]\n",
      "(array([2, 3, 5], dtype=int64),)\n"
     ]
    }
   ],
   "source": [
    "arr1= np.array([1,2,0,0,4,0])\n",
    "print(arr1)\n",
    "z= np.nonzero(arr1 == 0)\n",
    "print(z)"
   ]
  },
  {
   "cell_type": "markdown",
   "metadata": {},
   "source": [
    "### 5. Create a 10x10 array with random values and find the minimum and maximum values."
   ]
  },
  {
   "cell_type": "code",
   "execution_count": 6,
   "metadata": {},
   "outputs": [
    {
     "name": "stdout",
     "output_type": "stream",
     "text": [
      "[[0.88150314 0.67539734 0.4602157  0.04207349 0.31508476 0.8019817\n",
      "  0.27872964 0.63005034 0.76043967 0.87390849]\n",
      " [0.41451178 0.37171352 0.66711918 0.34372236 0.0193476  0.26522414\n",
      "  0.24163124 0.7181539  0.56080818 0.32845719]\n",
      " [0.98262496 0.55576229 0.88386832 0.3423476  0.16817372 0.21776368\n",
      "  0.894496   0.9975767  0.7470806  0.51099872]\n",
      " [0.59045907 0.32386626 0.1832923  0.66492218 0.62655232 0.09724154\n",
      "  0.29147587 0.69628788 0.15801986 0.5296931 ]\n",
      " [0.30994969 0.4330023  0.35339475 0.91323067 0.81656752 0.97407531\n",
      "  0.58641388 0.77925668 0.08250838 0.78605137]\n",
      " [0.1173682  0.76597849 0.85484203 0.65975535 0.17665032 0.1374317\n",
      "  0.98538401 0.10727752 0.70830809 0.7768805 ]\n",
      " [0.10877107 0.80070288 0.79839136 0.96646422 0.59310656 0.60408157\n",
      "  0.18772435 0.54249338 0.00806435 0.97284295]\n",
      " [0.68015412 0.63901545 0.28682383 0.68929605 0.849359   0.36994666\n",
      "  0.0943989  0.84925438 0.72997892 0.77038028]\n",
      " [0.86200157 0.34117788 0.16112876 0.42639236 0.42318913 0.58798558\n",
      "  0.01000967 0.50329432 0.93812403 0.9625805 ]\n",
      " [0.86311134 0.9627186  0.77903037 0.65801014 0.205028   0.23652837\n",
      "  0.10801113 0.44179993 0.20255923 0.94026002]]\n",
      "0.008064350773529738\n",
      "0.9975766977136472\n"
     ]
    }
   ],
   "source": [
    "arr_ran= np.random.random((10,10))\n",
    "print(arr_ran)\n",
    "print(arr_ran.min())\n",
    "print(arr_ran.max())"
   ]
  },
  {
   "cell_type": "markdown",
   "metadata": {},
   "source": [
    "### 6. Create a random vector of size 30 and find the mean value."
   ]
  },
  {
   "cell_type": "code",
   "execution_count": 9,
   "metadata": {},
   "outputs": [
    {
     "name": "stdout",
     "output_type": "stream",
     "text": [
      "[0.9995662  0.36365147 0.83851602 0.27545662 0.478502   0.56008316\n",
      " 0.03959812 0.27158258 0.45741509 0.88105384 0.47825116 0.85272024\n",
      " 0.85519771 0.55784126 0.69760161 0.21569735 0.42660757 0.9484185\n",
      " 0.27183237 0.75951957 0.12789433 0.20202737 0.53402193 0.19311692\n",
      " 0.95107275 0.78682877 0.61612684 0.63955777 0.84317298 0.56542798]\n",
      "0.5562786683273853\n"
     ]
    }
   ],
   "source": [
    "z = np.random.random(30)\n",
    "print(z)\n",
    "y = z.mean()\n",
    "print(y)"
   ]
  },
  {
   "cell_type": "code",
   "execution_count": null,
   "metadata": {},
   "outputs": [],
   "source": []
  }
 ],
 "metadata": {
  "kernelspec": {
   "display_name": "Python 3",
   "language": "python",
   "name": "python3"
  },
  "language_info": {
   "codemirror_mode": {
    "name": "ipython",
    "version": 3
   },
   "file_extension": ".py",
   "mimetype": "text/x-python",
   "name": "python",
   "nbconvert_exporter": "python",
   "pygments_lexer": "ipython3",
   "version": "3.8.5"
  }
 },
 "nbformat": 4,
 "nbformat_minor": 4
}
